{
 "cells": [
  {
   "cell_type": "code",
   "execution_count": 2,
   "id": "417620a6",
   "metadata": {},
   "outputs": [],
   "source": [
    "import rasterio as rio \n",
    "import matplotlib.pyplot as plt \n",
    "import numpy as np\n",
    "import pandas as pd \n",
    "import matplotlib.patches as mpatches \n",
    "from matplotlib.colors import ListedColormap\n",
    "from rasterio.enums import Resampling \n",
    "from PIL import ImageColor\n",
    "from skimage.exposure import rescale_intensity\n",
    "import json\n",
    "import os"
   ]
  },
  {
   "cell_type": "code",
   "execution_count": null,
   "id": "abbb9a57",
   "metadata": {},
   "outputs": [],
   "source": [
    "lc_dir = \"lc.json\"\n",
    "lc_image_dir = 'https://storage.googleapis.com/gee-ramiqcom-bucket/youtube/lc_python/LC_Image_v1.tif'\n",
    "palsar_dir = \"https://storage.googleapis.com/gee-ramiqcom-bucket/youtube/lc_python/Palsar_Kerinci_2023_v1.tif\"\n",
    "landsat_dir = \"https://storage.googleapis.com/gee-ramiqcom-bucket/youtube/lc_python/Landsat_Kerinci_2023_v1.tif\""
   ]
  },
  {
   "cell_type": "code",
   "execution_count": null,
   "id": "f5e84763",
   "metadata": {},
   "outputs": [],
   "source": [
    "lc = json.load(open(lc_dir))\n",
    "lc_df = pd.DataFrame(lc)\n",
    "lc_df[\"values_normalize\"] = lc_df.index +1 \n",
    "lc_df[\"palette\"] = \"#\" + lc_df[\"palette\"]\n",
    "\n",
    "values = lc_df[\"values\"].to_list()\n",
    "values_norm = lc_df[\"values_normalize\"].to_list()\n",
    "palette = lc_df[\"palette\"].to_list()\n",
    "labels = lc_df[\"label\"].to_list()\n",
    "\n",
    "dict_values = {}\n",
    "dict_label = {}\n",
    "dict_palette = {}\n",
    "dict_palette_hex = {}\n",
    "\n",
    "for x in range(0,len(values)):\n",
    "    dict_values[values[x]] = values_norm[x]\n",
    "    dict_label[values_norm[x]] = labels[x]\n",
    "    dict_palette[values_norm[x]] = ImageColor.getrgb(palette[x])\n",
    "    dict_palette_hex[values_norm[x]] = palette[x]\n",
    "    \n",
    "## colormap from values and palette\n",
    "cmap = ListedColormap(palette) ## defines a colormap with our chosen class colors , example ; “Whenever you see value 1, color it #006400 ; value 2, color it #228B22; …”\n",
    "\n",
    "patches = [ ## creates colored squares for the legend.\n",
    "    mpatches.Patch(color=palette[i], label=labels[i]) for i in range(len(values))\n",
    "]    \n",
    "\n",
    "legend = {\n",
    "    \"handles\":patches,\n",
    "    \"bbox_to_anchor\":(1.05,1),\n",
    "    \"loc\":2,\n",
    "    \"borderaxespad\":0.0,\n",
    "}\n",
    "lc_df"
   ]
  },
  {
   "cell_type": "code",
   "execution_count": 3,
   "id": "9c40b0a6",
   "metadata": {},
   "outputs": [
    {
     "data": {
      "text/plain": [
       "array([ 1,  2,  5,  6,  7,  8,  9, 11, 14, 15, 16, 17, 20, 22])"
      ]
     },
     "execution_count": 3,
     "metadata": {},
     "output_type": "execute_result"
    }
   ],
   "source": [
    "lc_values = os.listdir(\"C://Users//DHIA//Desktop//Satellite Imagery Land Cover Classification//data//images\")\n",
    "lc_values = list(map(lambda x: int(x.split('_')[0]),lc_values))\n",
    "lc_values = np.unique(lc_values)\n",
    "lc_values"
   ]
  },
  {
   "cell_type": "code",
   "execution_count": 4,
   "id": "df2da91c",
   "metadata": {},
   "outputs": [],
   "source": [
    "## Data Augmentation Function\n",
    "\n",
    "def augent(array,out_list):\n",
    "    flip=np.flip(array,1)\n",
    "    for arr in [array,flip]:\n",
    "        for rot in [1,2,3]:\n",
    "            out_list.append(np.rot90(arr,rot))"
   ]
  },
  {
   "cell_type": "code",
   "execution_count": null,
   "id": "904d5dc5",
   "metadata": {},
   "outputs": [],
   "source": [
    "# image per land cover\n",
    "\n",
    "image_per_lc = 20 \n",
    "index_train = int(8/10*image_per_lc)\n",
    "plt.figure(figsize=(4*image_per_lc,4*len(lc_values)))\n"
   ]
  }
 ],
 "metadata": {
  "kernelspec": {
   "display_name": "Python 3",
   "language": "python",
   "name": "python3"
  },
  "language_info": {
   "codemirror_mode": {
    "name": "ipython",
    "version": 3
   },
   "file_extension": ".py",
   "mimetype": "text/x-python",
   "name": "python",
   "nbconvert_exporter": "python",
   "pygments_lexer": "ipython3",
   "version": "3.12.10"
  }
 },
 "nbformat": 4,
 "nbformat_minor": 5
}
